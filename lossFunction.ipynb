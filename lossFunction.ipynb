{
 "cells": [
  {
   "cell_type": "markdown",
   "id": "12a67455",
   "metadata": {},
   "source": [
    "# Import Libraries"
   ]
  },
  {
   "cell_type": "code",
   "execution_count": 112,
   "id": "8d944b0a",
   "metadata": {},
   "outputs": [],
   "source": [
    "import torch, torchvision\n",
    "from torch import nn\n",
    "from torch import optim\n",
    "from torchvision.transforms import ToTensor\n",
    "import torch.nn.functional as F\n",
    "import matplotlib.pyplot as plt\n",
    "\n",
    "import copy\n",
    "\n",
    "from sklearn.metrics import confusion_matrix\n",
    "import pandas as pd\n",
    "import numpy as np\n",
    "import random \n",
    "\n",
    "\n",
    "BATCH_SIZE = 4"
   ]
  },
  {
   "cell_type": "markdown",
   "id": "7654bd83",
   "metadata": {},
   "source": [
    "# Getting Data"
   ]
  },
  {
   "cell_type": "code",
   "execution_count": 40,
   "id": "e17b3ee0",
   "metadata": {},
   "outputs": [],
   "source": [
    "\n",
    "transform = torchvision.transforms.Compose([\n",
    "    torchvision.transforms.ToTensor()\n",
    "])\n",
    "\n",
    "train_data = torchvision.datasets.MNIST('mnist_data', train = True, download = True, transform = transform)\n",
    "\n",
    "test_data = torchvision.datasets.MNIST('mnist_data', train = False, download = True, transform = transform)\n",
    "\n",
    "train_dl = torch.utils.data.DataLoader(train_data, batch_size = BATCH_SIZE)\n",
    "test_dl = torch.utils.data.DataLoader(test_data, batch_size = BATCH_SIZE)\n",
    "\n"
   ]
  },
  {
   "cell_type": "code",
   "execution_count": 41,
   "id": "78e3a553",
   "metadata": {},
   "outputs": [
    {
     "data": {
      "text/plain": [
       "<matplotlib.image.AxesImage at 0x1f2a5376a90>"
      ]
     },
     "execution_count": 41,
     "metadata": {},
     "output_type": "execute_result"
    },
    {
     "data": {
      "image/png": "[encoded data removed]",
      "text/plain": [
       "<Figure size 432x288 with 1 Axes>"
      ]
     },
     "metadata": {
      "needs_background": "light"
     },
     "output_type": "display_data"
    }
   ],
   "source": [
    "plt.imshow(train_data[0][0][0], cmap = \"gray\")"
   ]
  },
  {
   "cell_type": "markdown",
   "id": "a393af8b",
   "metadata": {},
   "source": [
    "# Create The Model"
   ]
  },
  {
   "cell_type": "code",
   "execution_count": 42,
   "id": "121b10de",
   "metadata": {},
   "outputs": [],
   "source": [
    "def create_lenet():\n",
    "    model = nn.Sequential(\n",
    "        \n",
    "    nn.Conv2d(1, 6, 5, padding = 2),\n",
    "    nn.ReLU(),\n",
    "    nn.AvgPool2d(2, stride = 2),\n",
    "    \n",
    "    nn.Conv2d(6, 16, 5, padding = 0),\n",
    "    nn.ReLU(),\n",
    "    nn.AvgPool2d(2, stride = 2), \n",
    "    \n",
    "    nn.Flatten(),\n",
    "    nn.Linear(400, 120),\n",
    "    nn.ReLU(),\n",
    "    nn.Linear(120, 84),\n",
    "    nn.ReLU(),\n",
    "    nn.Linear(84, 10)\n",
    ")\n",
    "    return model"
   ]
  },
  {
   "cell_type": "markdown",
   "id": "d4a9b3e3",
   "metadata": {},
   "source": [
    "# Validate The Model"
   ]
  },
  {
   "cell_type": "code",
   "execution_count": 43,
   "id": "48f33b0a",
   "metadata": {},
   "outputs": [],
   "source": [
    "def validate(model, data):\n",
    "    total = 0\n",
    "    correct = 0\n",
    "    for i, (images, labels) in enumerate(data):\n",
    "        x = model(images)\n",
    "        value, pred = torch.max(x, 1)\n",
    "        total += x.size(0)\n",
    "        correct += torch.sum(pred == labels)\n",
    "    \n",
    "    return correct*100./total"
   ]
  },
  {
   "cell_type": "markdown",
   "id": "1ef1fcc5",
   "metadata": {},
   "source": [
    "# Training Function"
   ]
  },
  {
   "cell_type": "code",
   "execution_count": 62,
   "id": "2740bee2",
   "metadata": {},
   "outputs": [],
   "source": [
    "def train(lr, epochs = 3, device = \"cpu\"):\n",
    "    accuracies = []\n",
    "    cnn = create_lenet().to(device)\n",
    "    cec = nn.CrossEntropyLoss()\n",
    "    optimizer = optim.Adam(cnn.parameters(), lr = lr)\n",
    "    max_accuracy = 0\n",
    "    \n",
    "    for epoch in range(epochs):\n",
    "        for i, (images, labels) in enumerate(train_dl):\n",
    "            optimizer.zero_grad()\n",
    "            pred = cnn(images)\n",
    "            loss = cec(pred, labels)\n",
    "            loss.backward()\n",
    "            optimizer.step()\n",
    "        accuracy = float(validate(cnn, test_dl))\n",
    "        accuracies.append(accuracy)\n",
    "        if accuracy > max_accuracy:\n",
    "            best_model = copy.deepcopy(cnn)\n",
    "            max_accuracy = accuracy \n",
    "            print(\"Saving Best Model With Accuracy: \", accuracy)\n",
    "        print(\"Epoch: \", epoch+1, \"Accuracy: \", accuracy, \"%\")\n",
    "    #plt.plot(accuracies)\n",
    "    return best_model, accuracies, lr"
   ]
  },
  {
   "cell_type": "markdown",
   "id": "94f233d0",
   "metadata": {},
   "source": [
    "# Training The Model: Good Learning Rates"
   ]
  },
  {
   "cell_type": "code",
   "execution_count": 66,
   "id": "eb02362b",
   "metadata": {},
   "outputs": [
    {
     "name": "stdout",
     "output_type": "stream",
     "text": [
      "Saving Best Model With Accuracy:  91.41999816894531\n",
      "Epoch:  1 Accuracy:  91.41999816894531 %\n",
      "Saving Best Model With Accuracy:  91.9800033569336\n",
      "Epoch:  2 Accuracy:  91.9800033569336 %\n",
      "Saving Best Model With Accuracy:  92.68000030517578\n",
      "Epoch:  3 Accuracy:  92.68000030517578 %\n",
      "Saving Best Model With Accuracy:  93.08999633789062\n",
      "Epoch:  4 Accuracy:  93.08999633789062 %\n",
      "Epoch:  5 Accuracy:  92.48999786376953 %\n",
      "Epoch:  6 Accuracy:  91.37999725341797 %\n",
      "Epoch:  7 Accuracy:  91.33000183105469 %\n",
      "Epoch:  8 Accuracy:  91.44999694824219 %\n",
      "Epoch:  9 Accuracy:  90.66999816894531 %\n",
      "Epoch:  10 Accuracy:  92.77999877929688 %\n",
      "Saving Best Model With Accuracy:  97.19000244140625\n",
      "Epoch:  1 Accuracy:  97.19000244140625 %\n",
      "Saving Best Model With Accuracy:  97.86000061035156\n",
      "Epoch:  2 Accuracy:  97.86000061035156 %\n",
      "Saving Best Model With Accuracy:  98.22000122070312\n",
      "Epoch:  3 Accuracy:  98.22000122070312 %\n",
      "Saving Best Model With Accuracy:  98.47000122070312\n",
      "Epoch:  4 Accuracy:  98.47000122070312 %\n",
      "Saving Best Model With Accuracy:  98.58999633789062\n",
      "Epoch:  5 Accuracy:  98.58999633789062 %\n",
      "Epoch:  6 Accuracy:  98.29000091552734 %\n",
      "Saving Best Model With Accuracy:  98.94999694824219\n",
      "Epoch:  7 Accuracy:  98.94999694824219 %\n",
      "Epoch:  8 Accuracy:  98.26000213623047 %\n",
      "Epoch:  9 Accuracy:  98.04000091552734 %\n",
      "Epoch:  10 Accuracy:  98.76000213623047 %\n",
      "Saving Best Model With Accuracy:  92.73999786376953\n",
      "Epoch:  1 Accuracy:  92.73999786376953 %\n",
      "Saving Best Model With Accuracy:  95.87999725341797\n",
      "Epoch:  2 Accuracy:  95.87999725341797 %\n",
      "Saving Best Model With Accuracy:  97.19000244140625\n",
      "Epoch:  3 Accuracy:  97.19000244140625 %\n",
      "Saving Best Model With Accuracy:  97.7300033569336\n",
      "Epoch:  4 Accuracy:  97.7300033569336 %\n",
      "Saving Best Model With Accuracy:  97.95999908447266\n",
      "Epoch:  5 Accuracy:  97.95999908447266 %\n",
      "Saving Best Model With Accuracy:  98.11000061035156\n",
      "Epoch:  6 Accuracy:  98.11000061035156 %\n",
      "Saving Best Model With Accuracy:  98.2699966430664\n",
      "Epoch:  7 Accuracy:  98.2699966430664 %\n",
      "Saving Best Model With Accuracy:  98.47000122070312\n",
      "Epoch:  8 Accuracy:  98.47000122070312 %\n",
      "Saving Best Model With Accuracy:  98.55000305175781\n",
      "Epoch:  9 Accuracy:  98.55000305175781 %\n",
      "Saving Best Model With Accuracy:  98.56999969482422\n",
      "Epoch:  10 Accuracy:  98.56999969482422 %\n",
      "Saving Best Model With Accuracy:  83.62000274658203\n",
      "Epoch:  1 Accuracy:  83.62000274658203 %\n",
      "Saving Best Model With Accuracy:  87.69000244140625\n",
      "Epoch:  2 Accuracy:  87.69000244140625 %\n",
      "Saving Best Model With Accuracy:  88.94999694824219\n",
      "Epoch:  3 Accuracy:  88.94999694824219 %\n",
      "Saving Best Model With Accuracy:  89.94000244140625\n",
      "Epoch:  4 Accuracy:  89.94000244140625 %\n",
      "Saving Best Model With Accuracy:  90.93000030517578\n",
      "Epoch:  5 Accuracy:  90.93000030517578 %\n",
      "Saving Best Model With Accuracy:  91.80000305175781\n",
      "Epoch:  6 Accuracy:  91.80000305175781 %\n",
      "Saving Best Model With Accuracy:  92.4800033569336\n",
      "Epoch:  7 Accuracy:  92.4800033569336 %\n",
      "Saving Best Model With Accuracy:  93.0999984741211\n",
      "Epoch:  8 Accuracy:  93.0999984741211 %\n",
      "Saving Best Model With Accuracy:  93.6500015258789\n",
      "Epoch:  9 Accuracy:  93.6500015258789 %\n",
      "Saving Best Model With Accuracy:  94.04000091552734\n",
      "Epoch:  10 Accuracy:  94.04000091552734 %\n"
     ]
    }
   ],
   "source": [
    "lenet1 = train(0.01, 10)\n",
    "lenet2 = train(0.001, 10)\n",
    "lenet3 = train(0.0001, 10)\n",
    "lenet4 = train(0.00001, 10)\n",
    "\n"
   ]
  },
  {
   "cell_type": "markdown",
   "id": "39a1bca0",
   "metadata": {},
   "source": [
    "# Bad Learning Rates"
   ]
  },
  {
   "cell_type": "code",
   "execution_count": 70,
   "id": "83587b36",
   "metadata": {},
   "outputs": [
    {
     "name": "stdout",
     "output_type": "stream",
     "text": [
      "Saving Best Model With Accuracy:  9.579999923706055\n",
      "Epoch:  1 Accuracy:  9.579999923706055 %\n",
      "Epoch:  2 Accuracy:  9.579999923706055 %\n",
      "Epoch:  3 Accuracy:  9.579999923706055 %\n",
      "Epoch:  4 Accuracy:  9.579999923706055 %\n",
      "Epoch:  5 Accuracy:  9.579999923706055 %\n",
      "Epoch:  6 Accuracy:  9.579999923706055 %\n",
      "Epoch:  7 Accuracy:  9.579999923706055 %\n",
      "Epoch:  8 Accuracy:  9.579999923706055 %\n",
      "Epoch:  9 Accuracy:  9.579999923706055 %\n",
      "Epoch:  10 Accuracy:  9.579999923706055 %\n",
      "Saving Best Model With Accuracy:  9.739999771118164\n",
      "Epoch:  1 Accuracy:  9.739999771118164 %\n",
      "Epoch:  2 Accuracy:  9.739999771118164 %\n",
      "Epoch:  3 Accuracy:  9.739999771118164 %\n",
      "Epoch:  4 Accuracy:  9.739999771118164 %\n",
      "Epoch:  5 Accuracy:  9.739999771118164 %\n",
      "Epoch:  6 Accuracy:  9.739999771118164 %\n",
      "Epoch:  7 Accuracy:  9.739999771118164 %\n",
      "Epoch:  8 Accuracy:  9.739999771118164 %\n",
      "Epoch:  9 Accuracy:  9.739999771118164 %\n",
      "Epoch:  10 Accuracy:  9.739999771118164 %\n",
      "Saving Best Model With Accuracy:  9.819999694824219\n",
      "Epoch:  1 Accuracy:  9.819999694824219 %\n",
      "Epoch:  2 Accuracy:  9.819999694824219 %\n",
      "Epoch:  3 Accuracy:  9.819999694824219 %\n",
      "Epoch:  4 Accuracy:  9.819999694824219 %\n",
      "Epoch:  5 Accuracy:  9.819999694824219 %\n",
      "Epoch:  6 Accuracy:  9.819999694824219 %\n",
      "Epoch:  7 Accuracy:  9.819999694824219 %\n",
      "Epoch:  8 Accuracy:  9.819999694824219 %\n",
      "Epoch:  9 Accuracy:  9.819999694824219 %\n",
      "Epoch:  10 Accuracy:  9.819999694824219 %\n"
     ]
    }
   ],
   "source": [
    "lenet5 = train(.99, 10)\n",
    "lenet6 = train(.5, 10)\n",
    "lenet7 = train(.1, 10)"
   ]
  },
  {
   "cell_type": "code",
   "execution_count": 173,
   "id": "7b04d433",
   "metadata": {},
   "outputs": [
    {
     "name": "stdout",
     "output_type": "stream",
     "text": [
      "Saving Best Model With Accuracy:  9.819999694824219\n",
      "Epoch:  1 Accuracy:  9.819999694824219 %\n",
      "Epoch:  2 Accuracy:  9.819999694824219 %\n",
      "Epoch:  3 Accuracy:  9.819999694824219 %\n",
      "Epoch:  4 Accuracy:  9.819999694824219 %\n",
      "Epoch:  5 Accuracy:  9.819999694824219 %\n",
      "Epoch:  6 Accuracy:  9.819999694824219 %\n",
      "Epoch:  7 Accuracy:  9.819999694824219 %\n",
      "Epoch:  8 Accuracy:  9.819999694824219 %\n",
      "Epoch:  9 Accuracy:  9.819999694824219 %\n",
      "Epoch:  10 Accuracy:  9.819999694824219 %\n"
     ]
    }
   ],
   "source": [
    "lenet8 = train(.05, 10)"
   ]
  },
  {
   "cell_type": "code",
   "execution_count": 103,
   "id": "dd8a39f1",
   "metadata": {},
   "outputs": [
    {
     "name": "stdout",
     "output_type": "stream",
     "text": [
      "Saving Best Model With Accuracy:  93.12000274658203\n",
      "Epoch:  1 Accuracy:  93.12000274658203 %\n",
      "Epoch:  2 Accuracy:  92.87999725341797 %\n",
      "Epoch:  3 Accuracy:  89.8499984741211 %\n",
      "Epoch:  4 Accuracy:  92.9800033569336 %\n",
      "Saving Best Model With Accuracy:  94.12000274658203\n",
      "Epoch:  5 Accuracy:  94.12000274658203 %\n",
      "Saving Best Model With Accuracy:  95.25\n",
      "Epoch:  6 Accuracy:  95.25 %\n",
      "Epoch:  7 Accuracy:  92.4000015258789 %\n",
      "Epoch:  8 Accuracy:  90.1500015258789 %\n",
      "Epoch:  9 Accuracy:  94.56999969482422 %\n",
      "Epoch:  10 Accuracy:  92.83999633789062 %\n"
     ]
    }
   ],
   "source": [
    "lenet9 = train(0.012, 10)"
   ]
  },
  {
   "cell_type": "code",
   "execution_count": 69,
   "id": "ee524b79",
   "metadata": {},
   "outputs": [
    {
     "name": "stdout",
     "output_type": "stream",
     "text": [
      "Highest Accuracy for Lenet1:  93.08999633789062  with learning rate:  0.01\n",
      "Highest Accuracy for Lenet2:  98.94999694824219  with learning rate:  0.001\n",
      "Highest Accuracy for Lenet3:  98.56999969482422  with learning rate:  0.0001\n",
      "Highest Accuracy for Lenet4:  94.04000091552734  with learning rate:  1e-05\n"
     ]
    }
   ],
   "source": [
    "print(\"Highest Accuracy for Lenet1: \", max(lenet1[1]), \" with learning rate: \", lenet1[2])\n",
    "print(\"Highest Accuracy for Lenet2: \", max(lenet2[1]), \" with learning rate: \", lenet2[2])\n",
    "print(\"Highest Accuracy for Lenet3: \", max(lenet3[1]), \" with learning rate: \", lenet3[2])\n",
    "print(\"Highest Accuracy for Lenet4: \", max(lenet4[1]), \" with learning rate: \", lenet4[2])"
   ]
  },
  {
   "cell_type": "code",
   "execution_count": 109,
   "id": "e743863d",
   "metadata": {},
   "outputs": [
    {
     "data": {
      "text/plain": [
       "<function matplotlib.pyplot.show(close=None, block=None)>"
      ]
     },
     "execution_count": 109,
     "metadata": {},
     "output_type": "execute_result"
    },
    {
     "data": {
      "image/png": "[encoded data removed]",
      "text/plain": [
       "<Figure size 432x288 with 9 Axes>"
      ]
     },
     "metadata": {
      "needs_background": "light"
     },
     "output_type": "display_data"
    }
   ],
   "source": [
    "x = [1,2,3,4,5,6,7,8,9,10]\n",
    "\n",
    "figure, axis = plt.subplots(3,3)\n",
    "axis[0,0].plot(x, lenet1[1])\n",
    "axis[0,0].set_title(\"LR of 0.01\")\n",
    "\n",
    "axis[0,1].plot(x, lenet2[1])\n",
    "axis[0,1].set_title(\"LR of 0.001\")\n",
    "\n",
    "axis[0,2].plot(x, lenet3[1])\n",
    "axis[0,2].set_title(\"LR of 0.0001\")\n",
    "\n",
    "axis[1,0].plot(x, lenet4[1])\n",
    "axis[1,0].set_title(\"LR of 0.00001\")\n",
    "\n",
    "axis[1,1].plot(x, lenet5[1])\n",
    "axis[1,1].set_title(\"LR of 0.99\")\n",
    "\n",
    "axis[1,2].plot(x, lenet6[1])\n",
    "axis[1,2].set_title(\"LR of 0.5\")\n",
    "\n",
    "axis[2,0].plot(x, lenet7[1])\n",
    "axis[2,0].set_title(\"LR of 0.1\")\n",
    "\n",
    "axis[2,1].plot(x, lenet8[1])\n",
    "axis[2,1].set_title(\"LR of 0.05\")\n",
    "\n",
    "axis[2,2].plot(x, lenet9[1])\n",
    "axis[2,2].set_title(\"LR of 0.012\")\n",
    "\n",
    "plt.show"
   ]
  },
  {
   "cell_type": "code",
   "execution_count": 105,
   "id": "70ba9ad0",
   "metadata": {},
   "outputs": [],
   "source": [
    "def predict_dl(model, data):\n",
    "    y_pred = []\n",
    "    y_true = []\n",
    "    for i, (images, labels) in enumerate(data):\n",
    "        x = model(images)\n",
    "        value, pred = torch.max(x, 1)\n",
    "        pred = pred.data.cpu()\n",
    "        y_pred.extend(list(pred.numpy()))\n",
    "        y_true.extend(list(labels.numpy()))\n",
    "    return np.array(y_pred), np.array(y_true)"
   ]
  },
  {
   "cell_type": "code",
   "execution_count": 107,
   "id": "99696a92",
   "metadata": {},
   "outputs": [],
   "source": [
    "y_pred, y_true = predict_dl(lenet2[0], test_dl)"
   ]
  },
  {
   "cell_type": "code",
   "execution_count": 108,
   "id": "35382ae4",
   "metadata": {
    "scrolled": true
   },
   "outputs": [
    {
     "data": {
      "text/html": [
       "<div>\n",
       "<style scoped>\n",
       "    .dataframe tbody tr th:only-of-type {\n",
       "        vertical-align: middle;\n",
       "    }\n",
       "\n",
       "    .dataframe tbody tr th {\n",
       "        vertical-align: top;\n",
       "    }\n",
       "\n",
       "    .dataframe thead th {\n",
       "        text-align: right;\n",
       "    }\n",
       "</style>\n",
       "<table border=\"1\" class=\"dataframe\">\n",
       "  <thead>\n",
       "    <tr style=\"text-align: right;\">\n",
       "      <th></th>\n",
       "      <th>0</th>\n",
       "      <th>1</th>\n",
       "      <th>2</th>\n",
       "      <th>3</th>\n",
       "      <th>4</th>\n",
       "      <th>5</th>\n",
       "      <th>6</th>\n",
       "      <th>7</th>\n",
       "      <th>8</th>\n",
       "      <th>9</th>\n",
       "    </tr>\n",
       "  </thead>\n",
       "  <tbody>\n",
       "    <tr>\n",
       "      <th>0</th>\n",
       "      <td>977</td>\n",
       "      <td>0</td>\n",
       "      <td>0</td>\n",
       "      <td>0</td>\n",
       "      <td>0</td>\n",
       "      <td>1</td>\n",
       "      <td>1</td>\n",
       "      <td>1</td>\n",
       "      <td>0</td>\n",
       "      <td>0</td>\n",
       "    </tr>\n",
       "    <tr>\n",
       "      <th>1</th>\n",
       "      <td>0</td>\n",
       "      <td>1128</td>\n",
       "      <td>2</td>\n",
       "      <td>3</td>\n",
       "      <td>0</td>\n",
       "      <td>1</td>\n",
       "      <td>0</td>\n",
       "      <td>1</td>\n",
       "      <td>0</td>\n",
       "      <td>0</td>\n",
       "    </tr>\n",
       "    <tr>\n",
       "      <th>2</th>\n",
       "      <td>0</td>\n",
       "      <td>1</td>\n",
       "      <td>1029</td>\n",
       "      <td>0</td>\n",
       "      <td>1</td>\n",
       "      <td>0</td>\n",
       "      <td>0</td>\n",
       "      <td>1</td>\n",
       "      <td>0</td>\n",
       "      <td>0</td>\n",
       "    </tr>\n",
       "    <tr>\n",
       "      <th>3</th>\n",
       "      <td>0</td>\n",
       "      <td>0</td>\n",
       "      <td>6</td>\n",
       "      <td>1001</td>\n",
       "      <td>0</td>\n",
       "      <td>2</td>\n",
       "      <td>0</td>\n",
       "      <td>0</td>\n",
       "      <td>1</td>\n",
       "      <td>0</td>\n",
       "    </tr>\n",
       "    <tr>\n",
       "      <th>4</th>\n",
       "      <td>0</td>\n",
       "      <td>0</td>\n",
       "      <td>3</td>\n",
       "      <td>0</td>\n",
       "      <td>969</td>\n",
       "      <td>0</td>\n",
       "      <td>4</td>\n",
       "      <td>0</td>\n",
       "      <td>0</td>\n",
       "      <td>6</td>\n",
       "    </tr>\n",
       "    <tr>\n",
       "      <th>5</th>\n",
       "      <td>2</td>\n",
       "      <td>0</td>\n",
       "      <td>0</td>\n",
       "      <td>3</td>\n",
       "      <td>0</td>\n",
       "      <td>886</td>\n",
       "      <td>1</td>\n",
       "      <td>0</td>\n",
       "      <td>0</td>\n",
       "      <td>0</td>\n",
       "    </tr>\n",
       "    <tr>\n",
       "      <th>6</th>\n",
       "      <td>4</td>\n",
       "      <td>4</td>\n",
       "      <td>2</td>\n",
       "      <td>0</td>\n",
       "      <td>0</td>\n",
       "      <td>4</td>\n",
       "      <td>944</td>\n",
       "      <td>0</td>\n",
       "      <td>0</td>\n",
       "      <td>0</td>\n",
       "    </tr>\n",
       "    <tr>\n",
       "      <th>7</th>\n",
       "      <td>0</td>\n",
       "      <td>3</td>\n",
       "      <td>12</td>\n",
       "      <td>1</td>\n",
       "      <td>2</td>\n",
       "      <td>0</td>\n",
       "      <td>0</td>\n",
       "      <td>1006</td>\n",
       "      <td>3</td>\n",
       "      <td>1</td>\n",
       "    </tr>\n",
       "    <tr>\n",
       "      <th>8</th>\n",
       "      <td>2</td>\n",
       "      <td>0</td>\n",
       "      <td>1</td>\n",
       "      <td>1</td>\n",
       "      <td>0</td>\n",
       "      <td>1</td>\n",
       "      <td>0</td>\n",
       "      <td>1</td>\n",
       "      <td>968</td>\n",
       "      <td>0</td>\n",
       "    </tr>\n",
       "    <tr>\n",
       "      <th>9</th>\n",
       "      <td>1</td>\n",
       "      <td>1</td>\n",
       "      <td>1</td>\n",
       "      <td>1</td>\n",
       "      <td>6</td>\n",
       "      <td>3</td>\n",
       "      <td>1</td>\n",
       "      <td>3</td>\n",
       "      <td>5</td>\n",
       "      <td>987</td>\n",
       "    </tr>\n",
       "  </tbody>\n",
       "</table>\n",
       "</div>"
      ],
      "text/plain": [
       "     0     1     2     3    4    5    6     7    8    9\n",
       "0  977     0     0     0    0    1    1     1    0    0\n",
       "1    0  1128     2     3    0    1    0     1    0    0\n",
       "2    0     1  1029     0    1    0    0     1    0    0\n",
       "3    0     0     6  1001    0    2    0     0    1    0\n",
       "4    0     0     3     0  969    0    4     0    0    6\n",
       "5    2     0     0     3    0  886    1     0    0    0\n",
       "6    4     4     2     0    0    4  944     0    0    0\n",
       "7    0     3    12     1    2    0    0  1006    3    1\n",
       "8    2     0     1     1    0    1    0     1  968    0\n",
       "9    1     1     1     1    6    3    1     3    5  987"
      ]
     },
     "execution_count": 108,
     "metadata": {},
     "output_type": "execute_result"
    }
   ],
   "source": [
    "pd.DataFrame(confusion_matrix(y_true, y_pred, labels = np.arange(0, 10)))"
   ]
  },
  {
   "cell_type": "code",
   "execution_count": 121,
   "id": "59fa571f",
   "metadata": {},
   "outputs": [],
   "source": [
    "K = 100\n"
   ]
  },
  {
   "cell_type": "code",
   "execution_count": 192,
   "id": "7335df6d",
   "metadata": {},
   "outputs": [],
   "source": [
    "def clientUpdate(k, w):\n",
    "    lr = 0.001\n",
    "    epochs = 5\n",
    "    B = BATCH_SIZE\n",
    "    Beta = random.sample(set(k), B)\n",
    "    for x in range(epochs):\n",
    "        for y in Beta:\n",
    "            w = w-(lr*np.gradient(Beta))\n",
    "    return w\n",
    "        "
   ]
  },
  {
   "cell_type": "code",
   "execution_count": 193,
   "id": "b74cbea8",
   "metadata": {},
   "outputs": [],
   "source": [
    "def serverExecution(clients):\n",
    "    num_clients = len(clients)\n",
    "    w = random.random()\n",
    "    C = round(num_clients/100)\n",
    "    lr = 0.001\n",
    "    z = 10\n",
    "    m = 0\n",
    "    S = []\n",
    "    for i in range(z):\n",
    "        m = round(max(C,1))\n",
    "        S = (random.sample(clients, m))\n",
    "        for n in S:\n",
    "            w = clientUpdate(n, w)\n",
    "            print(w)\n",
    "    \n",
    "\n",
    "        \n",
    "        "
   ]
  },
  {
   "cell_type": "code",
   "execution_count": 194,
   "id": "9ee5aa76",
   "metadata": {},
   "outputs": [],
   "source": [
    "def client():\n",
    "    model = lenet2[0]\n",
    "    return model\n",
    "        "
   ]
  },
  {
   "cell_type": "code",
   "execution_count": 195,
   "id": "d8b4dcbc",
   "metadata": {},
   "outputs": [],
   "source": [
    "client1 = client()\n",
    "client2 = client()\n",
    "client3 = client()\n",
    "client4 = client()\n",
    "client5 = client()\n",
    "client6 = client()\n",
    "client7 = client()\n",
    "client8 = client()\n",
    "client9 = client()\n",
    "client10 = client()\n",
    "client11 = client()\n",
    "clientList = [client1,client2,client3, client4, client5, client6, client7, client8, client9, client10]"
   ]
  },
  {
   "cell_type": "code",
   "execution_count": 196,
   "id": "155e557c",
   "metadata": {},
   "outputs": [
    {
     "name": "stderr",
     "output_type": "stream",
     "text": [
      "C:\\Users\\Owner\\AppData\\Local\\Temp/ipykernel_14272/224386280.py:5: DeprecationWarning: Sampling from a set deprecated\n",
      "since Python 3.9 and will be removed in a subsequent version.\n",
      "  Beta = random.sample(set(k), B)\n"
     ]
    },
    {
     "ename": "TypeError",
     "evalue": "unsupported operand type(s) for -: 'ReLU' and 'AvgPool2d'",
     "output_type": "error",
     "traceback": [
      "\u001b[1;31m---------------------------------------------------------------------------\u001b[0m",
      "\u001b[1;31mTypeError\u001b[0m                                 Traceback (most recent call last)",
      "\u001b[1;32m~\\AppData\\Local\\Temp/ipykernel_14272/1599784577.py\u001b[0m in \u001b[0;36m<module>\u001b[1;34m\u001b[0m\n\u001b[1;32m----> 1\u001b[1;33m \u001b[0mserverExecution\u001b[0m\u001b[1;33m(\u001b[0m\u001b[0mclientList\u001b[0m\u001b[1;33m)\u001b[0m\u001b[1;33m\u001b[0m\u001b[1;33m\u001b[0m\u001b[0m\n\u001b[0m",
      "\u001b[1;32m~\\AppData\\Local\\Temp/ipykernel_14272/1732250570.py\u001b[0m in \u001b[0;36mserverExecution\u001b[1;34m(clients)\u001b[0m\n\u001b[0;32m     11\u001b[0m         \u001b[0mS\u001b[0m \u001b[1;33m=\u001b[0m \u001b[1;33m(\u001b[0m\u001b[0mrandom\u001b[0m\u001b[1;33m.\u001b[0m\u001b[0msample\u001b[0m\u001b[1;33m(\u001b[0m\u001b[0mclients\u001b[0m\u001b[1;33m,\u001b[0m \u001b[0mm\u001b[0m\u001b[1;33m)\u001b[0m\u001b[1;33m)\u001b[0m\u001b[1;33m\u001b[0m\u001b[1;33m\u001b[0m\u001b[0m\n\u001b[0;32m     12\u001b[0m         \u001b[1;32mfor\u001b[0m \u001b[0mn\u001b[0m \u001b[1;32min\u001b[0m \u001b[0mS\u001b[0m\u001b[1;33m:\u001b[0m\u001b[1;33m\u001b[0m\u001b[1;33m\u001b[0m\u001b[0m\n\u001b[1;32m---> 13\u001b[1;33m             \u001b[0mw\u001b[0m \u001b[1;33m=\u001b[0m \u001b[0mclientUpdate\u001b[0m\u001b[1;33m(\u001b[0m\u001b[0mn\u001b[0m\u001b[1;33m,\u001b[0m \u001b[0mw\u001b[0m\u001b[1;33m)\u001b[0m\u001b[1;33m\u001b[0m\u001b[1;33m\u001b[0m\u001b[0m\n\u001b[0m\u001b[0;32m     14\u001b[0m             \u001b[0mprint\u001b[0m\u001b[1;33m(\u001b[0m\u001b[0mw\u001b[0m\u001b[1;33m)\u001b[0m\u001b[1;33m\u001b[0m\u001b[1;33m\u001b[0m\u001b[0m\n\u001b[0;32m     15\u001b[0m \u001b[1;33m\u001b[0m\u001b[0m\n",
      "\u001b[1;32m~\\AppData\\Local\\Temp/ipykernel_14272/224386280.py\u001b[0m in \u001b[0;36mclientUpdate\u001b[1;34m(k, w)\u001b[0m\n\u001b[0;32m      6\u001b[0m     \u001b[1;32mfor\u001b[0m \u001b[0mx\u001b[0m \u001b[1;32min\u001b[0m \u001b[0mrange\u001b[0m\u001b[1;33m(\u001b[0m\u001b[0mepochs\u001b[0m\u001b[1;33m)\u001b[0m\u001b[1;33m:\u001b[0m\u001b[1;33m\u001b[0m\u001b[1;33m\u001b[0m\u001b[0m\n\u001b[0;32m      7\u001b[0m         \u001b[1;32mfor\u001b[0m \u001b[0my\u001b[0m \u001b[1;32min\u001b[0m \u001b[0mBeta\u001b[0m\u001b[1;33m:\u001b[0m\u001b[1;33m\u001b[0m\u001b[1;33m\u001b[0m\u001b[0m\n\u001b[1;32m----> 8\u001b[1;33m             \u001b[0mw\u001b[0m \u001b[1;33m=\u001b[0m \u001b[0mw\u001b[0m\u001b[1;33m-\u001b[0m\u001b[1;33m(\u001b[0m\u001b[0mlr\u001b[0m\u001b[1;33m*\u001b[0m\u001b[0mnp\u001b[0m\u001b[1;33m.\u001b[0m\u001b[0mgradient\u001b[0m\u001b[1;33m(\u001b[0m\u001b[0mBeta\u001b[0m\u001b[1;33m)\u001b[0m\u001b[1;33m)\u001b[0m\u001b[1;33m\u001b[0m\u001b[1;33m\u001b[0m\u001b[0m\n\u001b[0m\u001b[0;32m      9\u001b[0m     \u001b[1;32mreturn\u001b[0m \u001b[0mw\u001b[0m\u001b[1;33m\u001b[0m\u001b[1;33m\u001b[0m\u001b[0m\n\u001b[0;32m     10\u001b[0m \u001b[1;33m\u001b[0m\u001b[0m\n",
      "\u001b[1;32m<__array_function__ internals>\u001b[0m in \u001b[0;36mgradient\u001b[1;34m(*args, **kwargs)\u001b[0m\n",
      "\u001b[1;32mC:\\Anaconda\\lib\\site-packages\\numpy\\lib\\function_base.py\u001b[0m in \u001b[0;36mgradient\u001b[1;34m(f, axis, edge_order, *varargs)\u001b[0m\n\u001b[0;32m   1067\u001b[0m \u001b[1;33m\u001b[0m\u001b[0m\n\u001b[0;32m   1068\u001b[0m         \u001b[1;32mif\u001b[0m \u001b[0muniform_spacing\u001b[0m\u001b[1;33m:\u001b[0m\u001b[1;33m\u001b[0m\u001b[1;33m\u001b[0m\u001b[0m\n\u001b[1;32m-> 1069\u001b[1;33m             \u001b[0mout\u001b[0m\u001b[1;33m[\u001b[0m\u001b[0mtuple\u001b[0m\u001b[1;33m(\u001b[0m\u001b[0mslice1\u001b[0m\u001b[1;33m)\u001b[0m\u001b[1;33m]\u001b[0m \u001b[1;33m=\u001b[0m \u001b[1;33m(\u001b[0m\u001b[0mf\u001b[0m\u001b[1;33m[\u001b[0m\u001b[0mtuple\u001b[0m\u001b[1;33m(\u001b[0m\u001b[0mslice4\u001b[0m\u001b[1;33m)\u001b[0m\u001b[1;33m]\u001b[0m \u001b[1;33m-\u001b[0m \u001b[0mf\u001b[0m\u001b[1;33m[\u001b[0m\u001b[0mtuple\u001b[0m\u001b[1;33m(\u001b[0m\u001b[0mslice2\u001b[0m\u001b[1;33m)\u001b[0m\u001b[1;33m]\u001b[0m\u001b[1;33m)\u001b[0m \u001b[1;33m/\u001b[0m \u001b[1;33m(\u001b[0m\u001b[1;36m2.\u001b[0m \u001b[1;33m*\u001b[0m \u001b[0max_dx\u001b[0m\u001b[1;33m)\u001b[0m\u001b[1;33m\u001b[0m\u001b[1;33m\u001b[0m\u001b[0m\n\u001b[0m\u001b[0;32m   1070\u001b[0m         \u001b[1;32melse\u001b[0m\u001b[1;33m:\u001b[0m\u001b[1;33m\u001b[0m\u001b[1;33m\u001b[0m\u001b[0m\n\u001b[0;32m   1071\u001b[0m             \u001b[0mdx1\u001b[0m \u001b[1;33m=\u001b[0m \u001b[0max_dx\u001b[0m\u001b[1;33m[\u001b[0m\u001b[1;36m0\u001b[0m\u001b[1;33m:\u001b[0m\u001b[1;33m-\u001b[0m\u001b[1;36m1\u001b[0m\u001b[1;33m]\u001b[0m\u001b[1;33m\u001b[0m\u001b[1;33m\u001b[0m\u001b[0m\n",
      "\u001b[1;31mTypeError\u001b[0m: unsupported operand type(s) for -: 'ReLU' and 'AvgPool2d'"
     ]
    }
   ],
   "source": [
    "serverExecution(clientList)"
   ]
  },
  {
   "cell_type": "code",
   "execution_count": null,
   "id": "14e038a5",
   "metadata": {},
   "outputs": [],
   "source": []
  },
  {
   "cell_type": "code",
   "execution_count": null,
   "id": "2aa18915",
   "metadata": {},
   "outputs": [],
   "source": []
  }
 ],
 "metadata": {
  "kernelspec": {
   "display_name": "Python 3 (ipykernel)",
   "language": "python",
   "name": "python3"
  },
  "language_info": {
   "codemirror_mode": {
    "name": "ipython",
    "version": 3
   },
   "file_extension": ".py",
   "mimetype": "text/x-python",
   "name": "python",
   "nbconvert_exporter": "python",
   "pygments_lexer": "ipython3",
   "version": "3.9.7"
  }
 },
 "nbformat": 4,
 "nbformat_minor": 5
}
