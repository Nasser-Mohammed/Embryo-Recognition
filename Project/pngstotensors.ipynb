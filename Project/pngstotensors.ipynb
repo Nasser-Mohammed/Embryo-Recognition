{
 "cells": [
  {
   "cell_type": "code",
   "execution_count": 1,
   "id": "ae10bc7b",
   "metadata": {},
   "outputs": [
    {
     "name": "stderr",
     "output_type": "stream",
     "text": [
      "C:\\Users\\nikce\\anaconda3\\lib\\site-packages\\torchvision\\io\\image.py:11: UserWarning: Failed to load image Python extension: Could not find module 'C:\\Users\\nikce\\anaconda3\\Lib\\site-packages\\torchvision\\image.pyd' (or one of its dependencies). Try using the full path with constructor syntax.\n",
      "  warn(f\"Failed to load image Python extension: {e}\")\n"
     ]
    }
   ],
   "source": [
    "import torch\n",
    "import torch.nn as nn\n",
    "from torchvision import transforms\n",
    "from PIL import Image\n",
    "import os.path\n",
    "from os import path"
   ]
  },
  {
   "cell_type": "code",
   "execution_count": 2,
   "id": "f5ea1398",
   "metadata": {},
   "outputs": [],
   "source": [
    "def pngToTensor(image):\n",
    "    img = Image.open(image)\n",
    "    convert_tensor = transforms.ToTensor()\n",
    "    img = convert_tensor(img)\n",
    "    return img"
   ]
  },
  {
   "cell_type": "code",
   "execution_count": 38,
   "id": "7bf9764b",
   "metadata": {},
   "outputs": [
    {
     "name": "stdout",
     "output_type": "stream",
     "text": [
      "torch.Size([1, 200, 407])\n"
     ]
    }
   ],
   "source": [
    "A = pngToTensor(\"C:/Users/nikce/anaconda3/Project/images/0001_2.png\")\n",
    "B = A.size()\n",
    "print(B)"
   ]
  },
  {
   "cell_type": "code",
   "execution_count": 5,
   "id": "f2301074",
   "metadata": {},
   "outputs": [],
   "source": [
    "x = 1\n",
    "inputVars = torch.zeros(1043, 200, 407)\n",
    "outputVars = torch.zeros(1043, 7)\n",
    "\n",
    "while x <= 1043:\n",
    "    y = x - 1\n",
    "    preString = str(x)\n",
    "    if len(preString) == 1:\n",
    "        myString =\"000\" + preString\n",
    "    if len(preString) == 2:\n",
    "        myString =\"00\" + preString\n",
    "    if len(preString) == 3:\n",
    "        myString = \"0\" + preString\n",
    "    A = \"C:/Users/nikce/anaconda3/Project/images/\"\n",
    "    \n",
    "    if path.exists(A + myString + \"_1\" + \".png\"):\n",
    "        inputVars[y] = pngToTensor(A + myString + \"_1\" + \".png\")\n",
    "        outputVars[y, 0] = 1\n",
    "        \n",
    "    elif path.exists(A + myString + \"_2\" + \".png\"):\n",
    "        inputVars[y] = pngToTensor(A + myString + \"_2\" + \".png\")\n",
    "        outputVars[y, 1] = 1\n",
    "        \n",
    "    elif path.exists(A + myString + \"_3\" + \".png\"):    \n",
    "        inputVars[y] = pngToTensor(A + myString + \"_3\" + \".png\")\n",
    "        outputVars[y, 2] = 1\n",
    "        \n",
    "    elif path.exists(A + myString + \"_4\" + \".png\"):\n",
    "        inputVars[y] = pngToTensor(A + myString + \"_4\" + \".png\")\n",
    "        outputVars[y, 3] = 1\n",
    "         \n",
    "    elif path.exists(A + myString + \"_5\" + \".png\"):\n",
    "        inputVars[y] = pngToTensor(A + myString + \"_5\" + \".png\")\n",
    "        outputVars[y, 4] = 1\n",
    "        \n",
    "    elif path.exists(A + myString + \"_6\" + \".png\"):\n",
    "        inputVars[5] = pngToTensor(A + myString + \"_6\" + \".png\")\n",
    "        outputVars[y, 1] = 1\n",
    "        \n",
    "    elif path.exists(A + myString + \"_7\" + \".png\"):\n",
    "        inputVars[y] = pngToTensor(A + myString + \"_7\" + \".png\")\n",
    "        outputVars[y, 6] = 1\n",
    "        \n",
    "    x = x + 1\n",
    "    \n",
    "torch.save(inputVars, \"C:/Users/nikce/anaconda3/Project/images/inputVars.pt\")\n",
    "torch.save(outputVars, \"C:/Users/nikce/anaconda3/Project/images/outputVars.pt\")\n"
   ]
  },
  {
   "cell_type": "code",
   "execution_count": 7,
   "id": "d4ff8db2",
   "metadata": {},
   "outputs": [
    {
     "name": "stdout",
     "output_type": "stream",
     "text": [
      "tensor([0., 0., 1., 0., 0., 0., 0.])\n"
     ]
    }
   ],
   "source": [
    "A = torch.load(\"C:/Users/nikce/anaconda3/Project/images/outputVars.pt\")\n",
    "B = A[30]\n",
    "print(B)"
   ]
  },
  {
   "cell_type": "code",
   "execution_count": null,
   "id": "92b75ef3",
   "metadata": {},
   "outputs": [],
   "source": [
    "Output_Entropy"
   ]
  },
  {
   "cell_type": "code",
   "execution_count": null,
   "id": "ed515e16",
   "metadata": {},
   "outputs": [],
   "source": []
  },
  {
   "cell_type": "code",
   "execution_count": null,
   "id": "60f2a6aa",
   "metadata": {},
   "outputs": [],
   "source": []
  },
  {
   "cell_type": "code",
   "execution_count": null,
   "id": "1db67761",
   "metadata": {},
   "outputs": [],
   "source": []
  },
  {
   "cell_type": "code",
   "execution_count": null,
   "id": "f587401d",
   "metadata": {},
   "outputs": [],
   "source": []
  }
 ],
 "metadata": {
  "kernelspec": {
   "display_name": "Python 3 (ipykernel)",
   "language": "python",
   "name": "python3"
  },
  "language_info": {
   "codemirror_mode": {
    "name": "ipython",
    "version": 3
   },
   "file_extension": ".py",
   "mimetype": "text/x-python",
   "name": "python",
   "nbconvert_exporter": "python",
   "pygments_lexer": "ipython3",
   "version": "3.9.7"
  }
 },
 "nbformat": 4,
 "nbformat_minor": 5
}
