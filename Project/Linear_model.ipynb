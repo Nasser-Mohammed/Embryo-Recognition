{
 "cells": [
  {
   "cell_type": "code",
   "execution_count": 1,
   "id": "01df8641",
   "metadata": {},
   "outputs": [],
   "source": [
    "import torch"
   ]
  },
  {
   "cell_type": "code",
   "execution_count": 2,
   "id": "513a4691",
   "metadata": {},
   "outputs": [],
   "source": [
    "import torch.nn as nn"
   ]
  },
  {
   "cell_type": "code",
   "execution_count": 3,
   "id": "cc103ad1",
   "metadata": {},
   "outputs": [],
   "source": [
    "class LR(nn.Module):\n",
    "    def __init__(self, input_size, output_size):\n",
    "        super().__init__()\n",
    "        self.linear = nn.Linear(input_size, output_size)\n",
    "    def forward(self,x):\n",
    "        pred = self.linear(x)\n",
    "        return pred    \n",
    "    def view_parameters(self):\n",
    "        [weight, bias] = model.parameters()\n",
    "        print(weight, bias)"
   ]
  },
  {
   "cell_type": "code",
   "execution_count": 4,
   "id": "f6abcbbf",
   "metadata": {},
   "outputs": [],
   "source": [
    "def train_loop(epochs, learnRate, model, x, y):\n",
    "    criterion = nn.MSELoss()  #mean square error loss\n",
    "    optimizer = torch.optim.SGD(model.parameters(), lr = learnRate) #stochasitic gradient decent chooses random points to calculate gradent decent\n",
    "    for i in range(epochs):\n",
    "        y_pred = model.forward(x)\n",
    "        loss = criterion(y_pred, y)\n",
    "        optimizer.zero_grad() #clears the gradient so we can calculate it again\n",
    "        loss.backward()  #computes the gradient of the loss\n",
    "        optimizer.step() #takes the model in a step away from the direction of the gradient"
   ]
  },
  {
   "cell_type": "code",
   "execution_count": 5,
   "id": "edd4d6b8",
   "metadata": {},
   "outputs": [
    {
     "name": "stdout",
     "output_type": "stream",
     "text": [
      "Parameter containing:\n",
      "tensor([[1.2466, 0.7651]], requires_grad=True) Parameter containing:\n",
      "tensor([0.9398], requires_grad=True)\n"
     ]
    }
   ],
   "source": [
    "#test below\n",
    "x = torch.tensor([[1.0, 1.0], [2.0, 2.0], [3.0, 3.0]])\n",
    "y = torch.tensor([[3.0], [4.9], [7.0]])\n",
    "\n",
    "model = LR(2, 1)  # pass the input and output sizes to the model\n",
    "\n",
    "train_loop(1000, .01, model, x, y)\n",
    "\n",
    "model.view_parameters()"
   ]
  },
  {
   "cell_type": "code",
   "execution_count": null,
   "id": "fb928644",
   "metadata": {},
   "outputs": [],
   "source": []
  }
 ],
 "metadata": {
  "kernelspec": {
   "display_name": "Python 3 (ipykernel)",
   "language": "python",
   "name": "python3"
  },
  "language_info": {
   "codemirror_mode": {
    "name": "ipython",
    "version": 3
   },
   "file_extension": ".py",
   "mimetype": "text/x-python",
   "name": "python",
   "nbconvert_exporter": "python",
   "pygments_lexer": "ipython3",
   "version": "3.9.7"
  }
 },
 "nbformat": 4,
 "nbformat_minor": 5
}
