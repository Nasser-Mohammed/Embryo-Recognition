{
 "cells": [
  {
   "cell_type": "code",
   "execution_count": 5,
   "id": "ae10bc7b",
   "metadata": {},
   "outputs": [],
   "source": [
    "import torch\n",
    "import torch.nn as nn\n",
    "from torchvision import transforms\n",
    "from PIL import Image"
   ]
  },
  {
   "cell_type": "code",
   "execution_count": 25,
   "id": "f5ea1398",
   "metadata": {},
   "outputs": [],
   "source": [
    "def pngToTensor(image):\n",
    "    img = Image.open(image)\n",
    "    convert_tensor = transforms.ToTensor()\n",
    "    img = convert_tensor(img)\n",
    "    return img"
   ]
  },
  {
   "cell_type": "code",
   "execution_count": 26,
   "id": "f2301074",
   "metadata": {},
   "outputs": [
    {
     "name": "stdout",
     "output_type": "stream",
     "text": [
      "<PIL.PngImagePlugin.PngImageFile image mode=L size=407x200 at 0x19A863516A0>\n"
     ]
    }
   ],
   "source": [
    "A = pngToTensor(\"C:/Users/nikce/anaconda3/Project/images/0001_2.png\")\n",
    "print(A)"
   ]
  },
  {
   "cell_type": "code",
   "execution_count": null,
   "id": "d4ff8db2",
   "metadata": {},
   "outputs": [],
   "source": []
  }
 ],
 "metadata": {
  "kernelspec": {
   "display_name": "Python 3 (ipykernel)",
   "language": "python",
   "name": "python3"
  },
  "language_info": {
   "codemirror_mode": {
    "name": "ipython",
    "version": 3
   },
   "file_extension": ".py",
   "mimetype": "text/x-python",
   "name": "python",
   "nbconvert_exporter": "python",
   "pygments_lexer": "ipython3",
   "version": "3.9.7"
  }
 },
 "nbformat": 4,
 "nbformat_minor": 5
}
