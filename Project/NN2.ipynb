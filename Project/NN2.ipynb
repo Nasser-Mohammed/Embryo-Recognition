{
 "cells": [
  {
   "cell_type": "code",
   "execution_count": 142,
   "id": "7a54b6b6",
   "metadata": {},
   "outputs": [],
   "source": [
    "import torch, torchvision\n",
    "from torch import nn\n",
    "from torch import optim\n",
    "from torchvision.transforms import ToTensor, transforms\n",
    "import torch.nn.functional as F\n",
    "import matplotlib.pyplot as plt\n",
    "\n",
    "import copy\n",
    "\n",
    "from sklearn.metrics import confusion_matrix\n",
    "import pandas as pd\n",
    "import numpy as np\n",
    "import random \n",
    "\n",
    "from PIL import Image\n",
    "import os.path\n",
    "from os import path\n",
    "import glob\n",
    "import numpy\n",
    "import random\n",
    "from torch.utils.data import Dataset, DataLoader\n",
    "\n",
    "BATCH_SIZE = 4"
   ]
  },
  {
   "cell_type": "code",
   "execution_count": 144,
   "id": "f6e78b1c",
   "metadata": {},
   "outputs": [],
   "source": [
    "class CatfishDataset(Dataset):\n",
    "    def __init__(self, images, values):\n",
    "        self.images = images\n",
    "        self.labels = values\n",
    "    def __len__(self):\n",
    "        return len(self.images)\n",
    "    def __getitem__(self, index):\n",
    "        image = self.images[index]\n",
    "        label = self.labels[index]\n",
    "        return image, label\n",
    "    \n",
    "\n",
    "images = torch.load(\"C:/Users/nikce/anaconda3/Project/images/inputVars.pt\")\n",
    "values = torch.load(\"C:/Users/nikce/anaconda3/Project/images/outputVars.pt\")    \n",
    "images = images.reshape(1043, 1, 200, 407)\n",
    "values = values.reshape(1043, 7)\n",
    "\n",
    "train_images = images[0:399]\n",
    "test_images = images[400:1042]\n",
    "\n",
    "train_values = values[0:399]\n",
    "test_values = values[400:1042]\n",
    "\n",
    "train_dataset = CatfishDataset(train_images, train_values)\n",
    "test_dataset = CatfishDataset(test_images, test_values)\n",
    "\n",
    "train_dl = DataLoader(train_dataset, batch_size = BATCH_SIZE, shuffle = True)\n",
    "test_dl = DataLoader(test_dataset, batch_size = BATCH_SIZE, shuffle = True)\n",
    "\n",
    "    \n"
   ]
  },
  {
   "cell_type": "code",
   "execution_count": 145,
   "id": "5cb1413f",
   "metadata": {},
   "outputs": [],
   "source": [
    "def create_lenet():\n",
    "    model = nn.Sequential(\n",
    "        \n",
    "    nn.Conv2d(1, 6, 5, padding = 2),\n",
    "    nn.ReLU(),\n",
    "    nn.AvgPool2d(2, stride = 2),\n",
    "    \n",
    "    nn.Conv2d(6, 16, 5, padding = 0),\n",
    "    nn.ReLU(),\n",
    "    nn.AvgPool2d(2, stride = 2), \n",
    "    \n",
    "    nn.Flatten(),\n",
    "    nn.Linear(76032, 120),\n",
    "    nn.ReLU(),\n",
    "    nn.Linear(120, 84),\n",
    "    nn.ReLU(),\n",
    "    nn.Linear(84, 7)\n",
    ")\n",
    "    return model"
   ]
  },
  {
   "cell_type": "code",
   "execution_count": 146,
   "id": "191a48a5",
   "metadata": {},
   "outputs": [],
   "source": [
    "def validate(model, data):\n",
    "    total = 0\n",
    "    correct = 0\n",
    "    for i, (images, labels) in enumerate(data):\n",
    "        x = model(images)\n",
    "        value, pred = torch.max(x, 1)\n",
    "        total += x.size(0)\n",
    "        useless, labels_index = torch.max(labels,1)\n",
    "        correct += torch.sum(pred == labels_index)\n",
    "    \n",
    "    return correct*100./total"
   ]
  },
  {
   "cell_type": "code",
   "execution_count": 147,
   "id": "299daa80",
   "metadata": {},
   "outputs": [],
   "source": [
    "def train(lr, epochs, device = \"cpu\"):\n",
    "    accuracies = []\n",
    "    cnn = create_lenet().to(device)\n",
    "    cec = nn.CrossEntropyLoss()\n",
    "    optimizer = optim.Adam(cnn.parameters(), lr = lr)\n",
    "    max_accuracy = 0\n",
    "    \n",
    "    for epoch in range(epochs):\n",
    "        for i, (images, labels) in enumerate(train_dl):\n",
    "            optimizer.zero_grad()\n",
    "            pred = cnn(images)\n",
    "            loss = cec(pred, labels)\n",
    "            loss.backward()\n",
    "            optimizer.step()\n",
    "        accuracy = float(validate(cnn, test_dl))\n",
    "        accuracies.append(accuracy)\n",
    "        if accuracy > max_accuracy:\n",
    "            best_model = copy.deepcopy(cnn)\n",
    "            max_accuracy = accuracy \n",
    "            print(\"Saving Best Model With Accuracy: \", accuracy)\n",
    "        print(\"Epoch: \", epoch+1, \"Accuracy: \", accuracy, \"%\")\n",
    "    #plt.plot(accuracies)\n",
    "    return best_model, accuracies, lr"
   ]
  },
  {
   "cell_type": "code",
   "execution_count": 109,
   "id": "fc36963e",
   "metadata": {},
   "outputs": [
    {
     "name": "stdout",
     "output_type": "stream",
     "text": [
      "Epoch:  1 Accuracy:  0.0 %\n",
      "Saving Best Model With Accuracy:  4.13223123550415\n",
      "Epoch:  2 Accuracy:  4.13223123550415 %\n",
      "Saving Best Model With Accuracy:  17.76859474182129\n",
      "Epoch:  3 Accuracy:  17.76859474182129 %\n",
      "Saving Best Model With Accuracy:  59.50413131713867\n",
      "Epoch:  4 Accuracy:  59.50413131713867 %\n",
      "Saving Best Model With Accuracy:  68.18181610107422\n",
      "Epoch:  5 Accuracy:  68.18181610107422 %\n",
      "Epoch:  6 Accuracy:  66.1156997680664 %\n",
      "Epoch:  7 Accuracy:  40.49586868286133 %\n",
      "Epoch:  8 Accuracy:  24.380165100097656 %\n",
      "Epoch:  9 Accuracy:  16.11570167541504 %\n",
      "Epoch:  10 Accuracy:  40.082645416259766 %\n",
      "Epoch:  11 Accuracy:  40.49586868286133 %\n",
      "Epoch:  12 Accuracy:  35.95041275024414 %\n",
      "Epoch:  13 Accuracy:  46.6942138671875 %\n",
      "Epoch:  14 Accuracy:  44.214874267578125 %\n",
      "Epoch:  15 Accuracy:  47.10743713378906 %\n",
      "Epoch:  16 Accuracy:  46.6942138671875 %\n",
      "Epoch:  17 Accuracy:  47.10743713378906 %\n",
      "Epoch:  18 Accuracy:  47.10743713378906 %\n",
      "Epoch:  19 Accuracy:  47.520660400390625 %\n",
      "Epoch:  20 Accuracy:  47.10743713378906 %\n",
      "Epoch:  21 Accuracy:  47.520660400390625 %\n",
      "Epoch:  22 Accuracy:  47.520660400390625 %\n",
      "Epoch:  23 Accuracy:  47.10743713378906 %\n",
      "Epoch:  24 Accuracy:  47.93388366699219 %\n",
      "Epoch:  25 Accuracy:  47.520660400390625 %\n",
      "Epoch:  26 Accuracy:  48.34710693359375 %\n",
      "Epoch:  27 Accuracy:  48.34710693359375 %\n",
      "Epoch:  28 Accuracy:  48.76033020019531 %\n",
      "Epoch:  29 Accuracy:  48.76033020019531 %\n",
      "Epoch:  30 Accuracy:  48.76033020019531 %\n",
      "Epoch:  31 Accuracy:  48.76033020019531 %\n",
      "Epoch:  32 Accuracy:  48.76033020019531 %\n",
      "Epoch:  33 Accuracy:  48.76033020019531 %\n",
      "Epoch:  34 Accuracy:  48.76033020019531 %\n",
      "Epoch:  35 Accuracy:  48.34710693359375 %\n",
      "Epoch:  36 Accuracy:  48.34710693359375 %\n",
      "Epoch:  37 Accuracy:  48.34710693359375 %\n",
      "Epoch:  38 Accuracy:  48.76033020019531 %\n",
      "Epoch:  39 Accuracy:  49.173553466796875 %\n",
      "Epoch:  40 Accuracy:  49.173553466796875 %\n",
      "Epoch:  41 Accuracy:  49.173553466796875 %\n",
      "Epoch:  42 Accuracy:  49.173553466796875 %\n",
      "Epoch:  43 Accuracy:  49.173553466796875 %\n",
      "Epoch:  44 Accuracy:  49.173553466796875 %\n",
      "Epoch:  45 Accuracy:  49.173553466796875 %\n",
      "Epoch:  46 Accuracy:  49.173553466796875 %\n",
      "Epoch:  47 Accuracy:  49.173553466796875 %\n",
      "Epoch:  48 Accuracy:  49.173553466796875 %\n",
      "Epoch:  49 Accuracy:  49.173553466796875 %\n",
      "Epoch:  50 Accuracy:  49.173553466796875 %\n",
      "Epoch:  51 Accuracy:  49.173553466796875 %\n",
      "Epoch:  52 Accuracy:  49.58677673339844 %\n",
      "Epoch:  53 Accuracy:  49.58677673339844 %\n",
      "Epoch:  54 Accuracy:  49.58677673339844 %\n",
      "Epoch:  55 Accuracy:  49.58677673339844 %\n",
      "Epoch:  56 Accuracy:  49.58677673339844 %\n",
      "Epoch:  57 Accuracy:  49.58677673339844 %\n",
      "Epoch:  58 Accuracy:  49.58677673339844 %\n",
      "Epoch:  59 Accuracy:  49.58677673339844 %\n",
      "Epoch:  60 Accuracy:  49.58677673339844 %\n",
      "Epoch:  61 Accuracy:  49.58677673339844 %\n",
      "Epoch:  62 Accuracy:  49.58677673339844 %\n",
      "Epoch:  63 Accuracy:  49.58677673339844 %\n",
      "Epoch:  64 Accuracy:  49.58677673339844 %\n",
      "Epoch:  65 Accuracy:  49.58677673339844 %\n",
      "Epoch:  66 Accuracy:  49.58677673339844 %\n",
      "Epoch:  67 Accuracy:  49.58677673339844 %\n",
      "Epoch:  68 Accuracy:  49.58677673339844 %\n",
      "Epoch:  69 Accuracy:  49.173553466796875 %\n",
      "Epoch:  70 Accuracy:  49.173553466796875 %\n",
      "Epoch:  71 Accuracy:  49.173553466796875 %\n",
      "Epoch:  72 Accuracy:  49.173553466796875 %\n",
      "Epoch:  73 Accuracy:  49.173553466796875 %\n",
      "Epoch:  74 Accuracy:  49.173553466796875 %\n",
      "Epoch:  75 Accuracy:  49.173553466796875 %\n",
      "Epoch:  76 Accuracy:  49.173553466796875 %\n",
      "Epoch:  77 Accuracy:  49.58677673339844 %\n",
      "Epoch:  78 Accuracy:  49.58677673339844 %\n",
      "Epoch:  79 Accuracy:  49.58677673339844 %\n",
      "Epoch:  80 Accuracy:  49.58677673339844 %\n",
      "Epoch:  81 Accuracy:  49.58677673339844 %\n",
      "Epoch:  82 Accuracy:  49.58677673339844 %\n",
      "Epoch:  83 Accuracy:  49.58677673339844 %\n",
      "Epoch:  84 Accuracy:  49.58677673339844 %\n",
      "Epoch:  85 Accuracy:  49.58677673339844 %\n",
      "Epoch:  86 Accuracy:  49.58677673339844 %\n",
      "Epoch:  87 Accuracy:  49.58677673339844 %\n",
      "Epoch:  88 Accuracy:  49.58677673339844 %\n",
      "Epoch:  89 Accuracy:  49.58677673339844 %\n",
      "Epoch:  90 Accuracy:  49.58677673339844 %\n",
      "Epoch:  91 Accuracy:  49.58677673339844 %\n",
      "Epoch:  92 Accuracy:  49.58677673339844 %\n",
      "Epoch:  93 Accuracy:  49.58677673339844 %\n",
      "Epoch:  94 Accuracy:  49.58677673339844 %\n",
      "Epoch:  95 Accuracy:  49.58677673339844 %\n",
      "Epoch:  96 Accuracy:  49.58677673339844 %\n",
      "Epoch:  97 Accuracy:  49.58677673339844 %\n",
      "Epoch:  98 Accuracy:  49.58677673339844 %\n",
      "Epoch:  99 Accuracy:  49.58677673339844 %\n",
      "Epoch:  100 Accuracy:  49.58677673339844 %\n"
     ]
    }
   ],
   "source": [
    "lenet = train(0.001, 100) # used image 1-200 to train and 800-1043 to test\n",
    "# model is 68% accurate on train and test images, but fails to generalize to \n",
    "# images 201-799"
   ]
  },
  {
   "cell_type": "code",
   "execution_count": 148,
   "id": "f952096a",
   "metadata": {},
   "outputs": [
    {
     "name": "stdout",
     "output_type": "stream",
     "text": [
      "Saving Best Model With Accuracy:  21.183799743652344\n",
      "Epoch:  1 Accuracy:  21.183799743652344 %\n",
      "Epoch:  2 Accuracy:  21.183799743652344 %\n",
      "Epoch:  3 Accuracy:  21.183799743652344 %\n",
      "Epoch:  4 Accuracy:  21.183799743652344 %\n",
      "Epoch:  5 Accuracy:  21.183799743652344 %\n",
      "Epoch:  6 Accuracy:  21.183799743652344 %\n",
      "Epoch:  7 Accuracy:  21.183799743652344 %\n",
      "Epoch:  8 Accuracy:  21.183799743652344 %\n",
      "Epoch:  9 Accuracy:  21.183799743652344 %\n",
      "Epoch:  10 Accuracy:  21.183799743652344 %\n"
     ]
    }
   ],
   "source": [
    "lenet2 = train(0.001, 10)"
   ]
  },
  {
   "cell_type": "code",
   "execution_count": 155,
   "id": "b9aafff9",
   "metadata": {},
   "outputs": [
    {
     "name": "stdout",
     "output_type": "stream",
     "text": [
      "tensor([[-3.5123e+00, -5.1998e-01,  6.2475e-04,  6.5293e-01,  7.7898e-01,\n",
      "         -2.8068e+00, -3.5687e-01]], grad_fn=<AddmmBackward0>)\n"
     ]
    }
   ],
   "source": [
    "x = images[1030]\n",
    "x = x.reshape(1, 1, 200, 407)\n",
    "print(lenet[0](x))"
   ]
  },
  {
   "cell_type": "code",
   "execution_count": 156,
   "id": "d492c914",
   "metadata": {},
   "outputs": [],
   "source": [
    "def predict_dl(model, data):\n",
    "    y_pred = []\n",
    "    y_true = []\n",
    "    for i, (images, labels) in enumerate(data):\n",
    "        x = model(images)\n",
    "        value, pred = torch.max(x, 1)\n",
    "        pred = pred.data.cpu()\n",
    "        y_pred.extend(list(pred.numpy()))\n",
    "        y_true.extend(list(labels.numpy()))\n",
    "    return np.array(y_pred), np.array(y_true)"
   ]
  },
  {
   "cell_type": "code",
   "execution_count": 157,
   "id": "f9ffd9c2",
   "metadata": {},
   "outputs": [],
   "source": [
    "y_pred, y_true = predict_dl(lenet[0], test_dl)"
   ]
  },
  {
   "cell_type": "code",
   "execution_count": 158,
   "id": "40e24c49",
   "metadata": {},
   "outputs": [
    {
     "ename": "ValueError",
     "evalue": "Classification metrics can't handle a mix of multilabel-indicator and multiclass targets",
     "output_type": "error",
     "traceback": [
      "\u001b[1;31m---------------------------------------------------------------------------\u001b[0m",
      "\u001b[1;31mValueError\u001b[0m                                Traceback (most recent call last)",
      "\u001b[1;32m~\\AppData\\Local\\Temp/ipykernel_18484/1862531606.py\u001b[0m in \u001b[0;36m<module>\u001b[1;34m\u001b[0m\n\u001b[1;32m----> 1\u001b[1;33m \u001b[0mpd\u001b[0m\u001b[1;33m.\u001b[0m\u001b[0mDataFrame\u001b[0m\u001b[1;33m(\u001b[0m\u001b[0mconfusion_matrix\u001b[0m\u001b[1;33m(\u001b[0m\u001b[0my_true\u001b[0m\u001b[1;33m,\u001b[0m \u001b[0my_pred\u001b[0m\u001b[1;33m,\u001b[0m \u001b[0mlabels\u001b[0m \u001b[1;33m=\u001b[0m \u001b[0mnp\u001b[0m\u001b[1;33m.\u001b[0m\u001b[0marange\u001b[0m\u001b[1;33m(\u001b[0m\u001b[1;36m1\u001b[0m\u001b[1;33m,\u001b[0m \u001b[1;36m7\u001b[0m\u001b[1;33m)\u001b[0m\u001b[1;33m)\u001b[0m\u001b[1;33m)\u001b[0m\u001b[1;33m\u001b[0m\u001b[1;33m\u001b[0m\u001b[0m\n\u001b[0m",
      "\u001b[1;32m~\\anaconda3\\lib\\site-packages\\sklearn\\utils\\validation.py\u001b[0m in \u001b[0;36minner_f\u001b[1;34m(*args, **kwargs)\u001b[0m\n\u001b[0;32m     61\u001b[0m             \u001b[0mextra_args\u001b[0m \u001b[1;33m=\u001b[0m \u001b[0mlen\u001b[0m\u001b[1;33m(\u001b[0m\u001b[0margs\u001b[0m\u001b[1;33m)\u001b[0m \u001b[1;33m-\u001b[0m \u001b[0mlen\u001b[0m\u001b[1;33m(\u001b[0m\u001b[0mall_args\u001b[0m\u001b[1;33m)\u001b[0m\u001b[1;33m\u001b[0m\u001b[1;33m\u001b[0m\u001b[0m\n\u001b[0;32m     62\u001b[0m             \u001b[1;32mif\u001b[0m \u001b[0mextra_args\u001b[0m \u001b[1;33m<=\u001b[0m \u001b[1;36m0\u001b[0m\u001b[1;33m:\u001b[0m\u001b[1;33m\u001b[0m\u001b[1;33m\u001b[0m\u001b[0m\n\u001b[1;32m---> 63\u001b[1;33m                 \u001b[1;32mreturn\u001b[0m \u001b[0mf\u001b[0m\u001b[1;33m(\u001b[0m\u001b[1;33m*\u001b[0m\u001b[0margs\u001b[0m\u001b[1;33m,\u001b[0m \u001b[1;33m**\u001b[0m\u001b[0mkwargs\u001b[0m\u001b[1;33m)\u001b[0m\u001b[1;33m\u001b[0m\u001b[1;33m\u001b[0m\u001b[0m\n\u001b[0m\u001b[0;32m     64\u001b[0m \u001b[1;33m\u001b[0m\u001b[0m\n\u001b[0;32m     65\u001b[0m             \u001b[1;31m# extra_args > 0\u001b[0m\u001b[1;33m\u001b[0m\u001b[1;33m\u001b[0m\u001b[0m\n",
      "\u001b[1;32m~\\anaconda3\\lib\\site-packages\\sklearn\\metrics\\_classification.py\u001b[0m in \u001b[0;36mconfusion_matrix\u001b[1;34m(y_true, y_pred, labels, sample_weight, normalize)\u001b[0m\n\u001b[0;32m    297\u001b[0m \u001b[1;33m\u001b[0m\u001b[0m\n\u001b[0;32m    298\u001b[0m     \"\"\"\n\u001b[1;32m--> 299\u001b[1;33m     \u001b[0my_type\u001b[0m\u001b[1;33m,\u001b[0m \u001b[0my_true\u001b[0m\u001b[1;33m,\u001b[0m \u001b[0my_pred\u001b[0m \u001b[1;33m=\u001b[0m \u001b[0m_check_targets\u001b[0m\u001b[1;33m(\u001b[0m\u001b[0my_true\u001b[0m\u001b[1;33m,\u001b[0m \u001b[0my_pred\u001b[0m\u001b[1;33m)\u001b[0m\u001b[1;33m\u001b[0m\u001b[1;33m\u001b[0m\u001b[0m\n\u001b[0m\u001b[0;32m    300\u001b[0m     \u001b[1;32mif\u001b[0m \u001b[0my_type\u001b[0m \u001b[1;32mnot\u001b[0m \u001b[1;32min\u001b[0m \u001b[1;33m(\u001b[0m\u001b[1;34m\"binary\"\u001b[0m\u001b[1;33m,\u001b[0m \u001b[1;34m\"multiclass\"\u001b[0m\u001b[1;33m)\u001b[0m\u001b[1;33m:\u001b[0m\u001b[1;33m\u001b[0m\u001b[1;33m\u001b[0m\u001b[0m\n\u001b[0;32m    301\u001b[0m         \u001b[1;32mraise\u001b[0m \u001b[0mValueError\u001b[0m\u001b[1;33m(\u001b[0m\u001b[1;34m\"%s is not supported\"\u001b[0m \u001b[1;33m%\u001b[0m \u001b[0my_type\u001b[0m\u001b[1;33m)\u001b[0m\u001b[1;33m\u001b[0m\u001b[1;33m\u001b[0m\u001b[0m\n",
      "\u001b[1;32m~\\anaconda3\\lib\\site-packages\\sklearn\\metrics\\_classification.py\u001b[0m in \u001b[0;36m_check_targets\u001b[1;34m(y_true, y_pred)\u001b[0m\n\u001b[0;32m     90\u001b[0m \u001b[1;33m\u001b[0m\u001b[0m\n\u001b[0;32m     91\u001b[0m     \u001b[1;32mif\u001b[0m \u001b[0mlen\u001b[0m\u001b[1;33m(\u001b[0m\u001b[0my_type\u001b[0m\u001b[1;33m)\u001b[0m \u001b[1;33m>\u001b[0m \u001b[1;36m1\u001b[0m\u001b[1;33m:\u001b[0m\u001b[1;33m\u001b[0m\u001b[1;33m\u001b[0m\u001b[0m\n\u001b[1;32m---> 92\u001b[1;33m         raise ValueError(\"Classification metrics can't handle a mix of {0} \"\n\u001b[0m\u001b[0;32m     93\u001b[0m                          \"and {1} targets\".format(type_true, type_pred))\n\u001b[0;32m     94\u001b[0m \u001b[1;33m\u001b[0m\u001b[0m\n",
      "\u001b[1;31mValueError\u001b[0m: Classification metrics can't handle a mix of multilabel-indicator and multiclass targets"
     ]
    }
   ],
   "source": [
    "pd.DataFrame(confusion_matrix(y_true, y_pred, labels = np.arange(1, 7)))"
   ]
  },
  {
   "cell_type": "code",
   "execution_count": null,
   "id": "85d6c355",
   "metadata": {},
   "outputs": [],
   "source": []
  }
 ],
 "metadata": {
  "kernelspec": {
   "display_name": "Python 3 (ipykernel)",
   "language": "python",
   "name": "python3"
  },
  "language_info": {
   "codemirror_mode": {
    "name": "ipython",
    "version": 3
   },
   "file_extension": ".py",
   "mimetype": "text/x-python",
   "name": "python",
   "nbconvert_exporter": "python",
   "pygments_lexer": "ipython3",
   "version": "3.9.7"
  }
 },
 "nbformat": 4,
 "nbformat_minor": 5
}
