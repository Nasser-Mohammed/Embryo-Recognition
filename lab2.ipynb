{
 "cells": [
  {
   "cell_type": "code",
   "execution_count": 29,
   "metadata": {
    "colab": {
     "base_uri": "https://localhost:8080/",
     "height": 34
    },
    "colab_type": "code",
    "id": "T1LV7izNa82D",
    "outputId": "93dde122-460a-40f4-dd32-93901b7fb6c3"
   },
   "outputs": [
    {
     "name": "stdout",
     "output_type": "stream",
     "text": [
      "Populating the interactive namespace from numpy and matplotlib\n"
     ]
    }
   ],
   "source": [
    "%pylab inline"
   ]
  },
  {
   "cell_type": "code",
   "execution_count": 30,
   "metadata": {
    "colab": {
     "base_uri": "https://localhost:8080/",
     "height": 80
    },
    "colab_type": "code",
    "id": "nDR5ILDmaF1I",
    "outputId": "4c576831-7be9-4755-c08c-695ee6f40a3a"
   },
   "outputs": [],
   "source": [
    "import tensorflow as tf"
   ]
  },
  {
   "cell_type": "code",
   "execution_count": 31,
   "metadata": {
    "colab": {
     "base_uri": "https://localhost:8080/",
     "height": 52
    },
    "colab_type": "code",
    "id": "BGznYvxIIvjy",
    "outputId": "f0ee5cf0-eff8-45f3-d5da-036c536fb417"
   },
   "outputs": [],
   "source": [
    "cifar10 = tf.keras.datasets.cifar10.load_data\n",
    "\n",
    "(x_train, y_train), (x_test, y_test) = cifar10()\n",
    "x_train, x_test = x_train / 255.0, x_test / 255.0"
   ]
  },
  {
   "cell_type": "code",
   "execution_count": 32,
   "metadata": {
    "colab": {
     "base_uri": "https://localhost:8080/",
     "height": 52
    },
    "colab_type": "code",
    "id": "K71G0M_YaUAD",
    "outputId": "5369293d-0710-4bd6-a57d-8bd289977454"
   },
   "outputs": [
    {
     "name": "stdout",
     "output_type": "stream",
     "text": [
      "<class 'numpy.ndarray'> (50000, 32, 32, 3)\n",
      "0.0 1.0\n"
     ]
    }
   ],
   "source": [
    "print(type(x_train), x_train.shape)\n",
    "print(np.min(x_train), np.max(x_train))"
   ]
  },
  {
   "cell_type": "code",
   "execution_count": 33,
   "metadata": {
    "colab": {},
    "colab_type": "code",
    "id": "aM0CAgNwUUX0"
   },
   "outputs": [],
   "source": [
    "labels = ['airplane', 'automobile', 'bird', 'cat', 'deer', 'dog', 'frog', 'horse', 'ship', 'truck']"
   ]
  },
  {
   "cell_type": "code",
   "execution_count": 34,
   "metadata": {
    "colab": {
     "base_uri": "https://localhost:8080/",
     "height": 265
    },
    "colab_type": "code",
    "id": "0T8CNxqxbBTM",
    "outputId": "6bf1657f-b6d7-4e29-9d50-be0ff6d29def"
   },
   "outputs": [
    {
     "name": "stdout",
     "output_type": "stream",
     "text": [
      "frog\n"
     ]
    },
    {
     "data": {
      "image/png": "[encoded data removed]",
      "text/plain": [
       "<Figure size 432x288 with 1 Axes>"
      ]
     },
     "metadata": {
      "needs_background": "light"
     },
     "output_type": "display_data"
    }
   ],
   "source": [
    "i = 350\n",
    "imshow(x_train[i])\n",
    "axis('off')\n",
    "print(labels[y_train[i, 0]])"
   ]
  },
  {
   "cell_type": "markdown",
   "metadata": {
    "colab_type": "text",
    "id": "hQO9KblUpw0L"
   },
   "source": [
    "\n",
    "\n",
    "---\n",
    "\n"
   ]
  },
  {
   "cell_type": "markdown",
   "metadata": {
    "colab_type": "text",
    "id": "aQdxxgWClBns"
   },
   "source": [
    "## Task 1\n",
    "Build a neural network with two *dense* layers and an output layer. The first dense layer should have 512 neurons and the second 128 neurons. Both layers should use *relu* activation function. After each of these *Dense* layers, you should have a *dropout* layer (tf.keras.Layers.Dropout) with dropout probability 0.2. The output layer\n",
    "should be a *dense* layer with *softmax* activation.\n",
    "\n",
    "Compile the model with *sparse_categorical_crossentropy* loss and *adam* optimizer. The model should have *accuracy* in its metrics. \n",
    "\n",
    "After create the model object, print out the model summary."
   ]
  },
  {
   "cell_type": "code",
   "execution_count": 35,
   "metadata": {
    "colab": {},
    "colab_type": "code",
    "id": "pwrN_8WJXbR_"
   },
   "outputs": [
    {
     "name": "stdout",
     "output_type": "stream",
     "text": [
      "Model: \"sequential_3\"\n",
      "_________________________________________________________________\n",
      "Layer (type)                 Output Shape              Param #   \n",
      "=================================================================\n",
      "flatten_3 (Flatten)          (None, 3072)              0         \n",
      "_________________________________________________________________\n",
      "dense_9 (Dense)              (None, 512)               1573376   \n",
      "_________________________________________________________________\n",
      "dropout_6 (Dropout)          (None, 512)               0         \n",
      "_________________________________________________________________\n",
      "dense_10 (Dense)             (None, 128)               65664     \n",
      "_________________________________________________________________\n",
      "dropout_7 (Dropout)          (None, 128)               0         \n",
      "_________________________________________________________________\n",
      "dense_11 (Dense)             (None, 10)                1290      \n",
      "=================================================================\n",
      "Total params: 1,640,330\n",
      "Trainable params: 1,640,330\n",
      "Non-trainable params: 0\n",
      "_________________________________________________________________\n"
     ]
    }
   ],
   "source": [
    "from tensorflow import keras\n",
    "from tensorflow.keras import layers\n",
    "from tensorflow.keras.layers import Dropout\n",
    "model = keras.Sequential()\n",
    "model.add(keras.layers.Flatten(input_shape=(32,32,3)))\n",
    "model.add(layers.Dense(512, activation = 'relu'))\n",
    "model.add(Dropout(0.2))\n",
    "model.add(layers.Dense(128, activation = 'relu'))\n",
    "model.add(Dropout(0.2))\n",
    "model.add(layers.Dense(10,activation='softmax'))\n",
    "model.compile(optimizer = 'adam', loss = 'sparse_categorical_crossentropy', metrics=['accuracy'])\n",
    "model.summary()\n"
   ]
  },
  {
   "cell_type": "markdown",
   "metadata": {
    "colab_type": "text",
    "id": "b_6LLqDGqxZR"
   },
   "source": [
    "## Task 2\n",
    "Train the model for 50 epochs. Evaluate the model on the testing data. Print out the model accuracy on test data after the training."
   ]
  },
  {
   "cell_type": "code",
   "execution_count": 36,
   "metadata": {
    "colab": {},
    "colab_type": "code",
    "id": "hUyvcurvU2l1"
   },
   "outputs": [
    {
     "name": "stdout",
     "output_type": "stream",
     "text": [
      "Epoch 1/50\n",
      "250/250 [==============================] - 1s 2ms/step - loss: 2.2975 - accuracy: 0.1900\n",
      "Epoch 2/50\n",
      "250/250 [==============================] - 0s 2ms/step - loss: 1.8600 - accuracy: 0.3242\n",
      "Epoch 3/50\n",
      "250/250 [==============================] - 0s 2ms/step - loss: 1.7744 - accuracy: 0.3635\n",
      "Epoch 4/50\n",
      "250/250 [==============================] - 0s 2ms/step - loss: 1.7302 - accuracy: 0.3756\n",
      "Epoch 5/50\n",
      "250/250 [==============================] - 0s 2ms/step - loss: 1.7017 - accuracy: 0.3877\n",
      "Epoch 6/50\n",
      "250/250 [==============================] - 0s 2ms/step - loss: 1.6709 - accuracy: 0.3991\n",
      "Epoch 7/50\n",
      "250/250 [==============================] - 0s 2ms/step - loss: 1.6462 - accuracy: 0.4080\n",
      "Epoch 8/50\n",
      "250/250 [==============================] - 0s 2ms/step - loss: 1.6216 - accuracy: 0.4195\n",
      "Epoch 9/50\n",
      "250/250 [==============================] - 0s 2ms/step - loss: 1.6103 - accuracy: 0.4207\n",
      "Epoch 10/50\n",
      "250/250 [==============================] - 0s 2ms/step - loss: 1.6049 - accuracy: 0.4214\n",
      "Epoch 11/50\n",
      "250/250 [==============================] - 0s 2ms/step - loss: 1.5761 - accuracy: 0.4326\n",
      "Epoch 12/50\n",
      "250/250 [==============================] - 0s 2ms/step - loss: 1.5767 - accuracy: 0.4297\n",
      "Epoch 13/50\n",
      "250/250 [==============================] - 0s 2ms/step - loss: 1.5517 - accuracy: 0.4416\n",
      "Epoch 14/50\n",
      "250/250 [==============================] - 0s 2ms/step - loss: 1.5547 - accuracy: 0.4402\n",
      "Epoch 15/50\n",
      "250/250 [==============================] - 0s 2ms/step - loss: 1.5328 - accuracy: 0.4507\n",
      "Epoch 16/50\n",
      "250/250 [==============================] - 0s 2ms/step - loss: 1.5163 - accuracy: 0.4566\n",
      "Epoch 17/50\n",
      "250/250 [==============================] - 0s 2ms/step - loss: 1.5130 - accuracy: 0.4560\n",
      "Epoch 18/50\n",
      "250/250 [==============================] - 0s 2ms/step - loss: 1.5243 - accuracy: 0.4530\n",
      "Epoch 19/50\n",
      "250/250 [==============================] - 0s 2ms/step - loss: 1.5024 - accuracy: 0.4605\n",
      "Epoch 20/50\n",
      "250/250 [==============================] - 0s 2ms/step - loss: 1.4928 - accuracy: 0.4659\n",
      "Epoch 21/50\n",
      "250/250 [==============================] - 0s 2ms/step - loss: 1.4798 - accuracy: 0.4683\n",
      "Epoch 22/50\n",
      "250/250 [==============================] - 0s 2ms/step - loss: 1.4935 - accuracy: 0.4655\n",
      "Epoch 23/50\n",
      "250/250 [==============================] - 0s 2ms/step - loss: 1.4803 - accuracy: 0.4676\n",
      "Epoch 24/50\n",
      "250/250 [==============================] - 0s 2ms/step - loss: 1.4730 - accuracy: 0.4697\n",
      "Epoch 25/50\n",
      "250/250 [==============================] - 0s 2ms/step - loss: 1.4662 - accuracy: 0.4747\n",
      "Epoch 26/50\n",
      "250/250 [==============================] - 0s 2ms/step - loss: 1.4828 - accuracy: 0.4658\n",
      "Epoch 27/50\n",
      "250/250 [==============================] - 0s 2ms/step - loss: 1.4687 - accuracy: 0.4742\n",
      "Epoch 28/50\n",
      "250/250 [==============================] - 0s 2ms/step - loss: 1.4561 - accuracy: 0.4763\n",
      "Epoch 29/50\n",
      "250/250 [==============================] - 0s 2ms/step - loss: 1.4458 - accuracy: 0.4824\n",
      "Epoch 30/50\n",
      "250/250 [==============================] - 0s 2ms/step - loss: 1.4525 - accuracy: 0.4778\n",
      "Epoch 31/50\n",
      "250/250 [==============================] - 0s 2ms/step - loss: 1.4393 - accuracy: 0.4820\n",
      "Epoch 32/50\n",
      "250/250 [==============================] - 0s 2ms/step - loss: 1.4391 - accuracy: 0.4808\n",
      "Epoch 33/50\n",
      "250/250 [==============================] - 0s 2ms/step - loss: 1.4255 - accuracy: 0.4858\n",
      "Epoch 34/50\n",
      "250/250 [==============================] - 0s 2ms/step - loss: 1.4407 - accuracy: 0.4851\n",
      "Epoch 35/50\n",
      "250/250 [==============================] - 0s 2ms/step - loss: 1.4423 - accuracy: 0.4801\n",
      "Epoch 36/50\n",
      "250/250 [==============================] - 0s 2ms/step - loss: 1.4265 - accuracy: 0.4851\n",
      "Epoch 37/50\n",
      "250/250 [==============================] - 0s 2ms/step - loss: 1.4223 - accuracy: 0.4877\n",
      "Epoch 38/50\n",
      "250/250 [==============================] - 0s 2ms/step - loss: 1.4234 - accuracy: 0.4887\n",
      "Epoch 39/50\n",
      "250/250 [==============================] - 0s 2ms/step - loss: 1.4204 - accuracy: 0.4917\n",
      "Epoch 40/50\n",
      "250/250 [==============================] - 0s 2ms/step - loss: 1.4121 - accuracy: 0.4936\n",
      "Epoch 41/50\n",
      "250/250 [==============================] - 0s 2ms/step - loss: 1.4042 - accuracy: 0.4969\n",
      "Epoch 42/50\n",
      "250/250 [==============================] - 0s 2ms/step - loss: 1.4048 - accuracy: 0.4968\n",
      "Epoch 43/50\n",
      "250/250 [==============================] - 0s 2ms/step - loss: 1.4034 - accuracy: 0.4984\n",
      "Epoch 44/50\n",
      "250/250 [==============================] - 0s 2ms/step - loss: 1.3964 - accuracy: 0.5010\n",
      "Epoch 45/50\n",
      "250/250 [==============================] - 0s 2ms/step - loss: 1.3931 - accuracy: 0.4963\n",
      "Epoch 46/50\n",
      "250/250 [==============================] - 0s 2ms/step - loss: 1.3854 - accuracy: 0.4992\n",
      "Epoch 47/50\n",
      "250/250 [==============================] - 0s 2ms/step - loss: 1.3816 - accuracy: 0.5026\n",
      "Epoch 48/50\n",
      "250/250 [==============================] - 0s 2ms/step - loss: 1.4001 - accuracy: 0.4989\n",
      "Epoch 49/50\n",
      "250/250 [==============================] - 0s 2ms/step - loss: 1.3921 - accuracy: 0.4981\n",
      "Epoch 50/50\n",
      "250/250 [==============================] - 0s 2ms/step - loss: 1.3889 - accuracy: 0.4986\n",
      "313/313 - 0s - loss: 1.4149 - accuracy: 0.4933\n",
      "Accuracy on test data is: 0.4932999908924103\n"
     ]
    }
   ],
   "source": [
    "model.fit(x_train,y_train, batch_size=200, epochs=50)\n",
    "tcloss,tacc = model.evaluate(x_test, y_test, verbose=2)\n",
    "print('Accuracy on test data is:', tacc)\n"
   ]
  },
  {
   "cell_type": "markdown",
   "metadata": {
    "colab_type": "text",
    "id": "gNYU1ulpnyyU"
   },
   "source": [
    "## Task 3\n",
    "Implement a function *recognize*. It takes an image (shape = 32, 32, 3) as an input and use the \"model\" you trained above to make a prediction of the image's label. Your function should return the predicted (string) label (use the labels list to map numeric prediction to string label). "
   ]
  },
  {
   "cell_type": "code",
   "execution_count": 37,
   "metadata": {
    "colab": {
     "base_uri": "https://localhost:8080/",
     "height": 283
    },
    "colab_type": "code",
    "id": "T8AExaK5OGu4",
    "outputId": "3cbb34e5-b7a4-497e-c9f3-1b485787cf6b"
   },
   "outputs": [
    {
     "name": "stdout",
     "output_type": "stream",
     "text": [
      "Neural network recognizes this image as: frog\n",
      "true image label: frog\n"
     ]
    },
    {
     "data": {
      "text/plain": [
       "<matplotlib.image.AxesImage at 0x7f75d1450b50>"
      ]
     },
     "execution_count": 37,
     "metadata": {},
     "output_type": "execute_result"
    },
    {
     "data": {
      "image/png": "[encoded data removed]",
      "text/plain": [
       "<Figure size 432x288 with 1 Axes>"
      ]
     },
     "metadata": {
      "needs_background": "light"
     },
     "output_type": "display_data"
    }
   ],
   "source": [
    "def recognize(new_img):\n",
    "    pred = model.predict(new_img[None, :, :, :])[0]\n",
    "    return labels[np.argmax(pred)]\n",
    "\n",
    "    \n",
    "i = 62\n",
    "new_img = x_test[i]\n",
    "pred = recognize(new_img)\n",
    "\n",
    "print('Neural network recognizes this image as:', pred)\n",
    "print('true image label:', labels[y_test[i, 0]])\n",
    "imshow(new_img)"
   ]
  },
  {
   "cell_type": "code",
   "execution_count": null,
   "metadata": {
    "colab": {},
    "colab_type": "code",
    "id": "8YyG-EwwrUdA"
   },
   "outputs": [],
   "source": []
  }
 ],
 "metadata": {
  "accelerator": "GPU",
  "colab": {
   "collapsed_sections": [],
   "name": "lab7.ipynb",
   "provenance": []
  },
  "kernelspec": {
   "display_name": "Python 3",
   "language": "python",
   "name": "python3"
  },
  "language_info": {
   "codemirror_mode": {
    "name": "ipython",
    "version": 3
   },
   "file_extension": ".py",
   "mimetype": "text/x-python",
   "name": "python",
   "nbconvert_exporter": "python",
   "pygments_lexer": "ipython3",
   "version": "3.7.4"
  }
 },
 "nbformat": 4,
 "nbformat_minor": 1
}
